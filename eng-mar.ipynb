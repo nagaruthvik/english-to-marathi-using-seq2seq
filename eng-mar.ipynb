{
  "nbformat": 4,
  "nbformat_minor": 0,
  "metadata": {
    "colab": {
      "provenance": [],
      "gpuType": "T4"
    },
    "kernelspec": {
      "name": "python3",
      "display_name": "Python 3"
    },
    "language_info": {
      "name": "python"
    },
    "accelerator": "GPU"
  },
  "cells": [
    {
      "cell_type": "code",
      "execution_count": null,
      "metadata": {
        "id": "np95Z7C96pxw"
      },
      "outputs": [],
      "source": [
        "import pandas as pd\n",
        "import numpy as np\n",
        "import re\n",
        "import string\n",
        "from sklearn.model_selection import train_test_split\n",
        "from tensorflow.keras.preprocessing.text import Tokenizer\n",
        "from tensorflow.keras.preprocessing.sequence import pad_sequences\n",
        "from tensorflow.keras.models import Model\n",
        "from tensorflow.keras.layers import LSTM, Input, Dense, Embedding"
      ]
    },
    {
      "cell_type": "code",
      "source": [
        "data = pd.read_csv('mar.txt', delimiter='\\t', names=['English', 'Marathi', 'Attribution'])\n"
      ],
      "metadata": {
        "id": "L0sW6Ufz7dzO"
      },
      "execution_count": null,
      "outputs": []
    },
    {
      "cell_type": "code",
      "source": [
        "data.head()"
      ],
      "metadata": {
        "colab": {
          "base_uri": "https://localhost:8080/",
          "height": 206
        },
        "id": "vRELM81k7gvV",
        "outputId": "695bfaf1-8ab5-41b6-eca5-7331951892b6"
      },
      "execution_count": null,
      "outputs": [
        {
          "output_type": "execute_result",
          "data": {
            "text/plain": [
              "  English Marathi                                        Attribution\n",
              "0     Go.     जा.  CC-BY 2.0 (France) Attribution: tatoeba.org #2...\n",
              "1    Run!     पळ!  CC-BY 2.0 (France) Attribution: tatoeba.org #9...\n",
              "2    Run!    धाव!  CC-BY 2.0 (France) Attribution: tatoeba.org #9...\n",
              "3    Run!    पळा!  CC-BY 2.0 (France) Attribution: tatoeba.org #9...\n",
              "4    Run!   धावा!  CC-BY 2.0 (France) Attribution: tatoeba.org #9..."
            ],
            "text/html": [
              "\n",
              "  <div id=\"df-7e351e65-32b2-43a1-8c6e-b132a1bb653a\" class=\"colab-df-container\">\n",
              "    <div>\n",
              "<style scoped>\n",
              "    .dataframe tbody tr th:only-of-type {\n",
              "        vertical-align: middle;\n",
              "    }\n",
              "\n",
              "    .dataframe tbody tr th {\n",
              "        vertical-align: top;\n",
              "    }\n",
              "\n",
              "    .dataframe thead th {\n",
              "        text-align: right;\n",
              "    }\n",
              "</style>\n",
              "<table border=\"1\" class=\"dataframe\">\n",
              "  <thead>\n",
              "    <tr style=\"text-align: right;\">\n",
              "      <th></th>\n",
              "      <th>English</th>\n",
              "      <th>Marathi</th>\n",
              "      <th>Attribution</th>\n",
              "    </tr>\n",
              "  </thead>\n",
              "  <tbody>\n",
              "    <tr>\n",
              "      <th>0</th>\n",
              "      <td>Go.</td>\n",
              "      <td>जा.</td>\n",
              "      <td>CC-BY 2.0 (France) Attribution: tatoeba.org #2...</td>\n",
              "    </tr>\n",
              "    <tr>\n",
              "      <th>1</th>\n",
              "      <td>Run!</td>\n",
              "      <td>पळ!</td>\n",
              "      <td>CC-BY 2.0 (France) Attribution: tatoeba.org #9...</td>\n",
              "    </tr>\n",
              "    <tr>\n",
              "      <th>2</th>\n",
              "      <td>Run!</td>\n",
              "      <td>धाव!</td>\n",
              "      <td>CC-BY 2.0 (France) Attribution: tatoeba.org #9...</td>\n",
              "    </tr>\n",
              "    <tr>\n",
              "      <th>3</th>\n",
              "      <td>Run!</td>\n",
              "      <td>पळा!</td>\n",
              "      <td>CC-BY 2.0 (France) Attribution: tatoeba.org #9...</td>\n",
              "    </tr>\n",
              "    <tr>\n",
              "      <th>4</th>\n",
              "      <td>Run!</td>\n",
              "      <td>धावा!</td>\n",
              "      <td>CC-BY 2.0 (France) Attribution: tatoeba.org #9...</td>\n",
              "    </tr>\n",
              "  </tbody>\n",
              "</table>\n",
              "</div>\n",
              "    <div class=\"colab-df-buttons\">\n",
              "\n",
              "  <div class=\"colab-df-container\">\n",
              "    <button class=\"colab-df-convert\" onclick=\"convertToInteractive('df-7e351e65-32b2-43a1-8c6e-b132a1bb653a')\"\n",
              "            title=\"Convert this dataframe to an interactive table.\"\n",
              "            style=\"display:none;\">\n",
              "\n",
              "  <svg xmlns=\"http://www.w3.org/2000/svg\" height=\"24px\" viewBox=\"0 -960 960 960\">\n",
              "    <path d=\"M120-120v-720h720v720H120Zm60-500h600v-160H180v160Zm220 220h160v-160H400v160Zm0 220h160v-160H400v160ZM180-400h160v-160H180v160Zm440 0h160v-160H620v160ZM180-180h160v-160H180v160Zm440 0h160v-160H620v160Z\"/>\n",
              "  </svg>\n",
              "    </button>\n",
              "\n",
              "  <style>\n",
              "    .colab-df-container {\n",
              "      display:flex;\n",
              "      gap: 12px;\n",
              "    }\n",
              "\n",
              "    .colab-df-convert {\n",
              "      background-color: #E8F0FE;\n",
              "      border: none;\n",
              "      border-radius: 50%;\n",
              "      cursor: pointer;\n",
              "      display: none;\n",
              "      fill: #1967D2;\n",
              "      height: 32px;\n",
              "      padding: 0 0 0 0;\n",
              "      width: 32px;\n",
              "    }\n",
              "\n",
              "    .colab-df-convert:hover {\n",
              "      background-color: #E2EBFA;\n",
              "      box-shadow: 0px 1px 2px rgba(60, 64, 67, 0.3), 0px 1px 3px 1px rgba(60, 64, 67, 0.15);\n",
              "      fill: #174EA6;\n",
              "    }\n",
              "\n",
              "    .colab-df-buttons div {\n",
              "      margin-bottom: 4px;\n",
              "    }\n",
              "\n",
              "    [theme=dark] .colab-df-convert {\n",
              "      background-color: #3B4455;\n",
              "      fill: #D2E3FC;\n",
              "    }\n",
              "\n",
              "    [theme=dark] .colab-df-convert:hover {\n",
              "      background-color: #434B5C;\n",
              "      box-shadow: 0px 1px 3px 1px rgba(0, 0, 0, 0.15);\n",
              "      filter: drop-shadow(0px 1px 2px rgba(0, 0, 0, 0.3));\n",
              "      fill: #FFFFFF;\n",
              "    }\n",
              "  </style>\n",
              "\n",
              "    <script>\n",
              "      const buttonEl =\n",
              "        document.querySelector('#df-7e351e65-32b2-43a1-8c6e-b132a1bb653a button.colab-df-convert');\n",
              "      buttonEl.style.display =\n",
              "        google.colab.kernel.accessAllowed ? 'block' : 'none';\n",
              "\n",
              "      async function convertToInteractive(key) {\n",
              "        const element = document.querySelector('#df-7e351e65-32b2-43a1-8c6e-b132a1bb653a');\n",
              "        const dataTable =\n",
              "          await google.colab.kernel.invokeFunction('convertToInteractive',\n",
              "                                                    [key], {});\n",
              "        if (!dataTable) return;\n",
              "\n",
              "        const docLinkHtml = 'Like what you see? Visit the ' +\n",
              "          '<a target=\"_blank\" href=https://colab.research.google.com/notebooks/data_table.ipynb>data table notebook</a>'\n",
              "          + ' to learn more about interactive tables.';\n",
              "        element.innerHTML = '';\n",
              "        dataTable['output_type'] = 'display_data';\n",
              "        await google.colab.output.renderOutput(dataTable, element);\n",
              "        const docLink = document.createElement('div');\n",
              "        docLink.innerHTML = docLinkHtml;\n",
              "        element.appendChild(docLink);\n",
              "      }\n",
              "    </script>\n",
              "  </div>\n",
              "\n",
              "\n",
              "<div id=\"df-7c4985e2-8e86-4be3-85e9-81001522fc29\">\n",
              "  <button class=\"colab-df-quickchart\" onclick=\"quickchart('df-7c4985e2-8e86-4be3-85e9-81001522fc29')\"\n",
              "            title=\"Suggest charts\"\n",
              "            style=\"display:none;\">\n",
              "\n",
              "<svg xmlns=\"http://www.w3.org/2000/svg\" height=\"24px\"viewBox=\"0 0 24 24\"\n",
              "     width=\"24px\">\n",
              "    <g>\n",
              "        <path d=\"M19 3H5c-1.1 0-2 .9-2 2v14c0 1.1.9 2 2 2h14c1.1 0 2-.9 2-2V5c0-1.1-.9-2-2-2zM9 17H7v-7h2v7zm4 0h-2V7h2v10zm4 0h-2v-4h2v4z\"/>\n",
              "    </g>\n",
              "</svg>\n",
              "  </button>\n",
              "\n",
              "<style>\n",
              "  .colab-df-quickchart {\n",
              "      --bg-color: #E8F0FE;\n",
              "      --fill-color: #1967D2;\n",
              "      --hover-bg-color: #E2EBFA;\n",
              "      --hover-fill-color: #174EA6;\n",
              "      --disabled-fill-color: #AAA;\n",
              "      --disabled-bg-color: #DDD;\n",
              "  }\n",
              "\n",
              "  [theme=dark] .colab-df-quickchart {\n",
              "      --bg-color: #3B4455;\n",
              "      --fill-color: #D2E3FC;\n",
              "      --hover-bg-color: #434B5C;\n",
              "      --hover-fill-color: #FFFFFF;\n",
              "      --disabled-bg-color: #3B4455;\n",
              "      --disabled-fill-color: #666;\n",
              "  }\n",
              "\n",
              "  .colab-df-quickchart {\n",
              "    background-color: var(--bg-color);\n",
              "    border: none;\n",
              "    border-radius: 50%;\n",
              "    cursor: pointer;\n",
              "    display: none;\n",
              "    fill: var(--fill-color);\n",
              "    height: 32px;\n",
              "    padding: 0;\n",
              "    width: 32px;\n",
              "  }\n",
              "\n",
              "  .colab-df-quickchart:hover {\n",
              "    background-color: var(--hover-bg-color);\n",
              "    box-shadow: 0 1px 2px rgba(60, 64, 67, 0.3), 0 1px 3px 1px rgba(60, 64, 67, 0.15);\n",
              "    fill: var(--button-hover-fill-color);\n",
              "  }\n",
              "\n",
              "  .colab-df-quickchart-complete:disabled,\n",
              "  .colab-df-quickchart-complete:disabled:hover {\n",
              "    background-color: var(--disabled-bg-color);\n",
              "    fill: var(--disabled-fill-color);\n",
              "    box-shadow: none;\n",
              "  }\n",
              "\n",
              "  .colab-df-spinner {\n",
              "    border: 2px solid var(--fill-color);\n",
              "    border-color: transparent;\n",
              "    border-bottom-color: var(--fill-color);\n",
              "    animation:\n",
              "      spin 1s steps(1) infinite;\n",
              "  }\n",
              "\n",
              "  @keyframes spin {\n",
              "    0% {\n",
              "      border-color: transparent;\n",
              "      border-bottom-color: var(--fill-color);\n",
              "      border-left-color: var(--fill-color);\n",
              "    }\n",
              "    20% {\n",
              "      border-color: transparent;\n",
              "      border-left-color: var(--fill-color);\n",
              "      border-top-color: var(--fill-color);\n",
              "    }\n",
              "    30% {\n",
              "      border-color: transparent;\n",
              "      border-left-color: var(--fill-color);\n",
              "      border-top-color: var(--fill-color);\n",
              "      border-right-color: var(--fill-color);\n",
              "    }\n",
              "    40% {\n",
              "      border-color: transparent;\n",
              "      border-right-color: var(--fill-color);\n",
              "      border-top-color: var(--fill-color);\n",
              "    }\n",
              "    60% {\n",
              "      border-color: transparent;\n",
              "      border-right-color: var(--fill-color);\n",
              "    }\n",
              "    80% {\n",
              "      border-color: transparent;\n",
              "      border-right-color: var(--fill-color);\n",
              "      border-bottom-color: var(--fill-color);\n",
              "    }\n",
              "    90% {\n",
              "      border-color: transparent;\n",
              "      border-bottom-color: var(--fill-color);\n",
              "    }\n",
              "  }\n",
              "</style>\n",
              "\n",
              "  <script>\n",
              "    async function quickchart(key) {\n",
              "      const quickchartButtonEl =\n",
              "        document.querySelector('#' + key + ' button');\n",
              "      quickchartButtonEl.disabled = true;  // To prevent multiple clicks.\n",
              "      quickchartButtonEl.classList.add('colab-df-spinner');\n",
              "      try {\n",
              "        const charts = await google.colab.kernel.invokeFunction(\n",
              "            'suggestCharts', [key], {});\n",
              "      } catch (error) {\n",
              "        console.error('Error during call to suggestCharts:', error);\n",
              "      }\n",
              "      quickchartButtonEl.classList.remove('colab-df-spinner');\n",
              "      quickchartButtonEl.classList.add('colab-df-quickchart-complete');\n",
              "    }\n",
              "    (() => {\n",
              "      let quickchartButtonEl =\n",
              "        document.querySelector('#df-7c4985e2-8e86-4be3-85e9-81001522fc29 button');\n",
              "      quickchartButtonEl.style.display =\n",
              "        google.colab.kernel.accessAllowed ? 'block' : 'none';\n",
              "    })();\n",
              "  </script>\n",
              "</div>\n",
              "\n",
              "    </div>\n",
              "  </div>\n"
            ],
            "application/vnd.google.colaboratory.intrinsic+json": {
              "type": "dataframe",
              "variable_name": "data",
              "summary": "{\n  \"name\": \"data\",\n  \"rows\": 46982,\n  \"fields\": [\n    {\n      \"column\": \"English\",\n      \"properties\": {\n        \"dtype\": \"string\",\n        \"num_unique_values\": 30255,\n        \"samples\": [\n          \"We need new batteries.\",\n          \"You're very rude.\",\n          \"Who cut your hair?\"\n        ],\n        \"semantic_type\": \"\",\n        \"description\": \"\"\n      }\n    },\n    {\n      \"column\": \"Marathi\",\n      \"properties\": {\n        \"dtype\": \"string\",\n        \"num_unique_values\": 45852,\n        \"samples\": [\n          \"\\u0906\\u0935\\u0921\\u0932\\u0902?\",\n          \"\\u092e\\u0940 \\u0905\\u0930\\u094d\\u0927\\u0940 \\u091d\\u094b\\u092a\\u0947\\u0924\\u091a \\u0906\\u0939\\u0947.\",\n          \"\\u092e\\u0940 \\u0938\\u0930\\u094d\\u0935\\u0938\\u093e\\u092e\\u093e\\u0928\\u094d\\u092f \\u092e\\u0941\\u0932\\u0917\\u0940 \\u0906\\u0939\\u0947. \\u092e\\u093e\\u091d\\u094d\\u092f\\u093e\\u0915\\u0921\\u0947 \\u0915\\u0938\\u0932\\u0940\\u0939\\u0940 \\u0938\\u0941\\u092a\\u0930\\u092a\\u093e\\u0935\\u0930 \\u0928\\u093e\\u0939\\u0940\\u092f\\u0947.\"\n        ],\n        \"semantic_type\": \"\",\n        \"description\": \"\"\n      }\n    },\n    {\n      \"column\": \"Attribution\",\n      \"properties\": {\n        \"dtype\": \"string\",\n        \"num_unique_values\": 46982,\n        \"samples\": [\n          \"CC-BY 2.0 (France) Attribution: tatoeba.org #245815 (CK) & #6894575 (sabretou)\",\n          \"CC-BY 2.0 (France) Attribution: tatoeba.org #3151547 (CK) & #4023474 (sabretou)\",\n          \"CC-BY 2.0 (France) Attribution: tatoeba.org #2248290 (CK) & #2741144 (sabretou)\"\n        ],\n        \"semantic_type\": \"\",\n        \"description\": \"\"\n      }\n    }\n  ]\n}"
            }
          },
          "metadata": {},
          "execution_count": 4
        }
      ]
    },
    {
      "cell_type": "code",
      "source": [
        "data = data[['English', 'Marathi']]\n",
        "data['English'] = data['English'].apply(lambda x: x.lower().translate(str.maketrans('', '', string.punctuation)))\n",
        "data['Marathi'] = data['Marathi'].apply(lambda x: x.lower().translate(str.maketrans('', '', string.punctuation)))\n",
        "data['Marathi'] = data['Marathi'].apply(lambda x: re.sub(\"[२३०८१५७९४६]\", \"\", x))\n",
        "data['Marathi'] = data['Marathi'].apply(lambda x: re.sub(\"[\\u200d]\", \"\", x))\n",
        "data['Marathi'] = data['Marathi'].apply(lambda x: 'start ' + x + ' end')"
      ],
      "metadata": {
        "colab": {
          "base_uri": "https://localhost:8080/"
        },
        "id": "dcg50ng97kAX",
        "outputId": "c19d82ac-bef6-43ba-aee8-79427df3cfd3"
      },
      "execution_count": null,
      "outputs": [
        {
          "output_type": "stream",
          "name": "stderr",
          "text": [
            "<ipython-input-5-eb92dbb78b2b>:2: SettingWithCopyWarning: \n",
            "A value is trying to be set on a copy of a slice from a DataFrame.\n",
            "Try using .loc[row_indexer,col_indexer] = value instead\n",
            "\n",
            "See the caveats in the documentation: https://pandas.pydata.org/pandas-docs/stable/user_guide/indexing.html#returning-a-view-versus-a-copy\n",
            "  data['English'] = data['English'].apply(lambda x: x.lower().translate(str.maketrans('', '', string.punctuation)))\n",
            "<ipython-input-5-eb92dbb78b2b>:3: SettingWithCopyWarning: \n",
            "A value is trying to be set on a copy of a slice from a DataFrame.\n",
            "Try using .loc[row_indexer,col_indexer] = value instead\n",
            "\n",
            "See the caveats in the documentation: https://pandas.pydata.org/pandas-docs/stable/user_guide/indexing.html#returning-a-view-versus-a-copy\n",
            "  data['Marathi'] = data['Marathi'].apply(lambda x: x.lower().translate(str.maketrans('', '', string.punctuation)))\n",
            "<ipython-input-5-eb92dbb78b2b>:4: SettingWithCopyWarning: \n",
            "A value is trying to be set on a copy of a slice from a DataFrame.\n",
            "Try using .loc[row_indexer,col_indexer] = value instead\n",
            "\n",
            "See the caveats in the documentation: https://pandas.pydata.org/pandas-docs/stable/user_guide/indexing.html#returning-a-view-versus-a-copy\n",
            "  data['Marathi'] = data['Marathi'].apply(lambda x: re.sub(\"[२३०८१५७९४६]\", \"\", x))\n",
            "<ipython-input-5-eb92dbb78b2b>:5: SettingWithCopyWarning: \n",
            "A value is trying to be set on a copy of a slice from a DataFrame.\n",
            "Try using .loc[row_indexer,col_indexer] = value instead\n",
            "\n",
            "See the caveats in the documentation: https://pandas.pydata.org/pandas-docs/stable/user_guide/indexing.html#returning-a-view-versus-a-copy\n",
            "  data['Marathi'] = data['Marathi'].apply(lambda x: re.sub(\"[\\u200d]\", \"\", x))\n",
            "<ipython-input-5-eb92dbb78b2b>:6: SettingWithCopyWarning: \n",
            "A value is trying to be set on a copy of a slice from a DataFrame.\n",
            "Try using .loc[row_indexer,col_indexer] = value instead\n",
            "\n",
            "See the caveats in the documentation: https://pandas.pydata.org/pandas-docs/stable/user_guide/indexing.html#returning-a-view-versus-a-copy\n",
            "  data['Marathi'] = data['Marathi'].apply(lambda x: 'start ' + x + ' end')\n"
          ]
        }
      ]
    },
    {
      "cell_type": "code",
      "source": [
        "X_train, X_test, y_train, y_test = train_test_split(data['English'], data['Marathi'], test_size=0.1)\n"
      ],
      "metadata": {
        "id": "WIQgc85N7n57"
      },
      "execution_count": null,
      "outputs": []
    },
    {
      "cell_type": "code",
      "source": [
        "\n",
        "tokenizer_eng = Tokenizer()\n",
        "tokenizer_eng.fit_on_texts(X_train)\n",
        "vocab_size_eng = len(tokenizer_eng.word_index) + 1\n",
        "\n",
        "tokenizer_mar = Tokenizer()\n",
        "tokenizer_mar.fit_on_texts(y_train)\n",
        "vocab_size_mar = len(tokenizer_mar.word_index) + 1\n",
        "\n",
        "X_train_seq = tokenizer_eng.texts_to_sequences(X_train)\n",
        "X_test_seq = tokenizer_eng.texts_to_sequences(X_test)\n",
        "y_train_seq = tokenizer_mar.texts_to_sequences(y_train)\n",
        "y_test_seq = tokenizer_mar.texts_to_sequences(y_test)"
      ],
      "metadata": {
        "id": "G6hoq0se7sH8"
      },
      "execution_count": null,
      "outputs": []
    },
    {
      "cell_type": "code",
      "source": [
        "max_len_eng = 37\n",
        "max_len_mar = 37\n",
        "\n",
        "X_train_padded = pad_sequences(X_train_seq, maxlen=max_len_eng, padding='post')\n",
        "X_test_padded = pad_sequences(X_test_seq, maxlen=max_len_eng, padding='post')\n",
        "y_train_padded = pad_sequences(y_train_seq, maxlen=max_len_mar, padding='post')\n",
        "y_test_padded = pad_sequences(y_test_seq, maxlen=max_len_mar, padding='post')"
      ],
      "metadata": {
        "id": "OPWZYb3A7ulI"
      },
      "execution_count": null,
      "outputs": []
    },
    {
      "cell_type": "code",
      "source": [
        "\n",
        "latent_dim = 128\n",
        "\n",
        "\n",
        "encoder_inputs = Input(shape=(max_len_eng,))\n",
        "enc_emb = Embedding(vocab_size_eng, latent_dim, mask_zero=True)(encoder_inputs)\n",
        "encoder_lstm = LSTM(latent_dim, return_state=True)\n",
        "encoder_outputs, state_h, state_c = encoder_lstm(enc_emb)\n",
        "encoder_states = [state_h, state_c]"
      ],
      "metadata": {
        "id": "26Z9-l9G71YU"
      },
      "execution_count": null,
      "outputs": []
    },
    {
      "cell_type": "code",
      "source": [
        "decoder_inputs = Input(shape=(max_len_mar-1,))\n",
        "dec_emb_layer = Embedding(vocab_size_mar, latent_dim, mask_zero=True)\n",
        "dec_emb = dec_emb_layer(decoder_inputs)\n",
        "decoder_lstm = LSTM(latent_dim, return_sequences=True, return_state=True)\n",
        "decoder_outputs, _, _ = decoder_lstm(dec_emb, initial_state=encoder_states)\n",
        "decoder_dense = Dense(vocab_size_mar, activation='softmax')\n",
        "decoder_outputs = decoder_dense(decoder_outputs)"
      ],
      "metadata": {
        "id": "kqtVV0KM74y9"
      },
      "execution_count": null,
      "outputs": []
    },
    {
      "cell_type": "code",
      "source": [
        "model = Model([encoder_inputs, decoder_inputs], decoder_outputs)\n",
        "model.compile(optimizer='rmsprop', loss='sparse_categorical_crossentropy', metrics=['accuracy'])"
      ],
      "metadata": {
        "id": "fSY4IJZj78xt"
      },
      "execution_count": null,
      "outputs": []
    },
    {
      "cell_type": "code",
      "source": [
        "batch_size = 64\n",
        "epochs = 30"
      ],
      "metadata": {
        "id": "iNR5mm6D8ALS"
      },
      "execution_count": null,
      "outputs": []
    },
    {
      "cell_type": "code",
      "source": [
        "history = model.fit([X_train_padded, y_train_padded[:, :-1]], y_train_padded[:, 1:], batch_size=batch_size, epochs=epochs, validation_data=([X_test_padded, y_test_padded[:, :-1]], y_test_padded[:, 1:]))\n"
      ],
      "metadata": {
        "colab": {
          "base_uri": "https://localhost:8080/"
        },
        "id": "xquUw-EM8Bvv",
        "outputId": "9960fc8b-b7fd-453d-aa99-962a96bf8d7b"
      },
      "execution_count": null,
      "outputs": [
        {
          "output_type": "stream",
          "name": "stdout",
          "text": [
            "Epoch 1/30\n",
            "661/661 [==============================] - 49s 59ms/step - loss: 5.4556 - accuracy: 0.2663 - val_loss: 4.7641 - val_accuracy: 0.3310\n",
            "Epoch 2/30\n",
            "661/661 [==============================] - 30s 46ms/step - loss: 4.7536 - accuracy: 0.3361 - val_loss: 4.5444 - val_accuracy: 0.3506\n",
            "Epoch 3/30\n",
            "661/661 [==============================] - 31s 47ms/step - loss: 4.5459 - accuracy: 0.3555 - val_loss: 4.3819 - val_accuracy: 0.3640\n",
            "Epoch 4/30\n",
            "661/661 [==============================] - 30s 46ms/step - loss: 4.3783 - accuracy: 0.3776 - val_loss: 4.2328 - val_accuracy: 0.3876\n",
            "Epoch 5/30\n",
            "661/661 [==============================] - 30s 45ms/step - loss: 4.2317 - accuracy: 0.3917 - val_loss: 4.1075 - val_accuracy: 0.3979\n",
            "Epoch 6/30\n",
            "661/661 [==============================] - 30s 45ms/step - loss: 4.0913 - accuracy: 0.4066 - val_loss: 3.9886 - val_accuracy: 0.4144\n",
            "Epoch 7/30\n",
            "661/661 [==============================] - 29s 44ms/step - loss: 3.9540 - accuracy: 0.4243 - val_loss: 3.8617 - val_accuracy: 0.4293\n",
            "Epoch 8/30\n",
            "661/661 [==============================] - 29s 44ms/step - loss: 3.8275 - accuracy: 0.4392 - val_loss: 3.7679 - val_accuracy: 0.4427\n",
            "Epoch 9/30\n",
            "661/661 [==============================] - 29s 44ms/step - loss: 3.7103 - accuracy: 0.4528 - val_loss: 3.6541 - val_accuracy: 0.4563\n",
            "Epoch 10/30\n",
            "661/661 [==============================] - 30s 46ms/step - loss: 3.5978 - accuracy: 0.4661 - val_loss: 3.5668 - val_accuracy: 0.4655\n",
            "Epoch 11/30\n",
            "661/661 [==============================] - 30s 45ms/step - loss: 3.4906 - accuracy: 0.4790 - val_loss: 3.4810 - val_accuracy: 0.4763\n",
            "Epoch 12/30\n",
            "661/661 [==============================] - 30s 45ms/step - loss: 3.3909 - accuracy: 0.4901 - val_loss: 3.3907 - val_accuracy: 0.4848\n",
            "Epoch 13/30\n",
            "661/661 [==============================] - 29s 44ms/step - loss: 3.2970 - accuracy: 0.4995 - val_loss: 3.3179 - val_accuracy: 0.4909\n",
            "Epoch 14/30\n",
            "661/661 [==============================] - 30s 45ms/step - loss: 3.2057 - accuracy: 0.5096 - val_loss: 3.2473 - val_accuracy: 0.5000\n",
            "Epoch 15/30\n",
            "661/661 [==============================] - 30s 45ms/step - loss: 3.1183 - accuracy: 0.5189 - val_loss: 3.1929 - val_accuracy: 0.5027\n",
            "Epoch 16/30\n",
            "661/661 [==============================] - 29s 44ms/step - loss: 3.0366 - accuracy: 0.5277 - val_loss: 3.1229 - val_accuracy: 0.5120\n",
            "Epoch 17/30\n",
            "661/661 [==============================] - 30s 45ms/step - loss: 2.9591 - accuracy: 0.5356 - val_loss: 3.0552 - val_accuracy: 0.5186\n",
            "Epoch 18/30\n",
            "661/661 [==============================] - 29s 44ms/step - loss: 2.8847 - accuracy: 0.5438 - val_loss: 3.0050 - val_accuracy: 0.5256\n",
            "Epoch 19/30\n",
            "661/661 [==============================] - 29s 44ms/step - loss: 2.8132 - accuracy: 0.5514 - val_loss: 2.9412 - val_accuracy: 0.5343\n",
            "Epoch 20/30\n",
            "661/661 [==============================] - 29s 44ms/step - loss: 2.7442 - accuracy: 0.5588 - val_loss: 2.8919 - val_accuracy: 0.5360\n",
            "Epoch 21/30\n",
            "661/661 [==============================] - 30s 45ms/step - loss: 2.6766 - accuracy: 0.5669 - val_loss: 2.8348 - val_accuracy: 0.5433\n",
            "Epoch 22/30\n",
            "661/661 [==============================] - 30s 46ms/step - loss: 2.6090 - accuracy: 0.5747 - val_loss: 2.7957 - val_accuracy: 0.5484\n",
            "Epoch 23/30\n",
            "661/661 [==============================] - 30s 45ms/step - loss: 2.5448 - accuracy: 0.5821 - val_loss: 2.7569 - val_accuracy: 0.5552\n",
            "Epoch 24/30\n",
            "661/661 [==============================] - 30s 46ms/step - loss: 2.4843 - accuracy: 0.5894 - val_loss: 2.7019 - val_accuracy: 0.5584\n",
            "Epoch 25/30\n",
            "661/661 [==============================] - 29s 44ms/step - loss: 2.4257 - accuracy: 0.5970 - val_loss: 2.6659 - val_accuracy: 0.5658\n",
            "Epoch 26/30\n",
            "661/661 [==============================] - 30s 45ms/step - loss: 2.3686 - accuracy: 0.6038 - val_loss: 2.6187 - val_accuracy: 0.5690\n",
            "Epoch 27/30\n",
            "661/661 [==============================] - 30s 45ms/step - loss: 2.3147 - accuracy: 0.6112 - val_loss: 2.5932 - val_accuracy: 0.5735\n",
            "Epoch 28/30\n",
            "661/661 [==============================] - 30s 45ms/step - loss: 2.2620 - accuracy: 0.6175 - val_loss: 2.5586 - val_accuracy: 0.5768\n",
            "Epoch 29/30\n",
            "661/661 [==============================] - 29s 44ms/step - loss: 2.2116 - accuracy: 0.6237 - val_loss: 2.5274 - val_accuracy: 0.5804\n",
            "Epoch 30/30\n",
            "661/661 [==============================] - 30s 45ms/step - loss: 2.1614 - accuracy: 0.6295 - val_loss: 2.4986 - val_accuracy: 0.5830\n"
          ]
        }
      ]
    },
    {
      "cell_type": "code",
      "source": [
        "import matplotlib.pyplot as plt\n",
        "\n",
        "plt.plot(history.history['loss'])\n",
        "plt.plot(history.history['val_loss'])\n",
        "plt.title('Model loss')\n",
        "plt.ylabel('Loss')\n",
        "plt.xlabel('Epoch')\n",
        "plt.legend(['Train', 'Validation'], loc='upper left')\n",
        "plt.show()\n",
        "\n",
        "\n",
        "plt.plot(history.history['accuracy'])\n",
        "plt.plot(history.history['val_accuracy'])\n",
        "plt.title('Model accuracy')\n",
        "plt.ylabel('Accuracy')\n",
        "plt.xlabel('Epoch')\n",
        "plt.legend(['Train', 'Validation'], loc='upper left')\n",
        "plt.show()"
      ],
      "metadata": {
        "colab": {
          "base_uri": "https://localhost:8080/",
          "height": 927
        },
        "id": "p-uM3bdA8EqS",
        "outputId": "aae63376-a489-41cb-c0b8-272f902aeaf0"
      },
      "execution_count": null,
      "outputs": [
        {
          "output_type": "display_data",
          "data": {
            "text/plain": [
              "<Figure size 640x480 with 1 Axes>"
            ],
            "image/png": "[encoded data removed]"
          },
          "metadata": {}
        },
        {
          "output_type": "display_data",
          "data": {
            "text/plain": [
              "<Figure size 640x480 with 1 Axes>"
            ],
            "image/png": "[encoded data removed]"
          },
          "metadata": {}
        }
      ]
    },
    {
      "cell_type": "code",
      "source": [
        "loss, accuracy = model.evaluate([X_test_padded, y_test_padded[:, :-1]], y_test_padded[:, 1:])\n",
        "print(\"Test Loss:\", loss)\n",
        "print(\"Test Accuracy:\", accuracy)"
      ],
      "metadata": {
        "colab": {
          "base_uri": "https://localhost:8080/"
        },
        "id": "Vesqml4y8KTr",
        "outputId": "b7496f99-f217-4ddc-c512-6a77bad40f28"
      },
      "execution_count": null,
      "outputs": [
        {
          "output_type": "stream",
          "name": "stdout",
          "text": [
            "147/147 [==============================] - 3s 23ms/step - loss: 2.4984 - accuracy: 0.5830\n",
            "Test Loss: 2.4983530044555664\n",
            "Test Accuracy: 0.583014965057373\n"
          ]
        }
      ]
    },
    {
      "cell_type": "code",
      "source": [
        "print(f\"X_test shape: {X_test.shape}\")\n",
        "print(f\"X_test_padded shape: {X_test_padded.shape}\")\n",
        "print(f\"y_test shape: {y_test.shape}\")"
      ],
      "metadata": {
        "colab": {
          "base_uri": "https://localhost:8080/"
        },
        "id": "GPfbCuKZ8O-t",
        "outputId": "106fb432-62ab-4594-dc46-a62b59f6cbf5"
      },
      "execution_count": null,
      "outputs": [
        {
          "output_type": "stream",
          "name": "stdout",
          "text": [
            "X_test shape: (4699,)\n",
            "X_test_padded shape: (4699, 37)\n",
            "y_test shape: (4699,)\n"
          ]
        }
      ]
    },
    {
      "cell_type": "code",
      "source": [
        "reverse_target_word_index = {v: k for k, v in tokenizer_mar.word_index.items()}\n"
      ],
      "metadata": {
        "id": "7WYpMmCX8QhA"
      },
      "execution_count": null,
      "outputs": []
    },
    {
      "cell_type": "code",
      "source": [
        "\n",
        "encoder_model = Model(encoder_inputs, encoder_states)\n",
        "\n",
        "\n",
        "decoder_state_input_h = Input(shape=(latent_dim,))\n",
        "decoder_state_input_c = Input(shape=(latent_dim,))\n",
        "decoder_states_inputs = [decoder_state_input_h, decoder_state_input_c]\n",
        "\n",
        "dec_emb2 = dec_emb_layer(decoder_inputs)\n",
        "\n",
        "decoder_outputs2, state_h2, state_c2 = decoder_lstm(dec_emb2, initial_state=decoder_states_inputs)\n",
        "decoder_states2 = [state_h2, state_c2]\n",
        "\n",
        "decoder_outputs2 = decoder_dense(decoder_outputs2)\n",
        "decoder_model = Model(\n",
        "    [decoder_inputs] + decoder_states_inputs,\n",
        "    [decoder_outputs2] + decoder_states2\n",
        ")\n"
      ],
      "metadata": {
        "id": "EAEjmW2N8Ucj"
      },
      "execution_count": null,
      "outputs": []
    },
    {
      "cell_type": "code",
      "source": [
        "\n",
        "tokenizer_eng = Tokenizer()\n",
        "tokenizer_eng.fit_on_texts(X_train)\n",
        "vocab_size_eng = len(tokenizer_eng.word_index) + 1\n",
        "\n",
        "tokenizer_mar = Tokenizer()\n",
        "tokenizer_mar.fit_on_texts(y_train)\n",
        "vocab_size_mar = len(tokenizer_mar.word_index) + 1\n",
        "\n",
        "reverse_target_word_index = {v: k for k, v in tokenizer_mar.word_index.items()}\n",
        "\n",
        "\n",
        "def decode_sequence(input_seq):\n",
        "\n",
        "    states_value = encoder_model.predict(input_seq)\n",
        "\n",
        "\n",
        "    target_seq = np.zeros((1, 1))\n",
        "\n",
        "\n",
        "    target_seq[0, 0] = tokenizer_mar.word_index['start']\n",
        "\n",
        "\n",
        "    stop_condition = False\n",
        "    decoded_sentence = ''\n",
        "    while not stop_condition:\n",
        "        output_tokens, h, c = decoder_model.predict([target_seq] + states_value)\n",
        "\n",
        "\n",
        "        sampled_token_index = np.argmax(output_tokens[0, -1, :])\n",
        "        sampled_char = reverse_target_word_index.get(sampled_token_index, '<UNK>')\n",
        "        decoded_sentence += sampled_char + ' '\n",
        "\n",
        "\n",
        "        if (sampled_char == 'end' or len(decoded_sentence.split()) > max_len_mar):\n",
        "            stop_condition = True\n",
        "\n",
        "\n",
        "        target_seq = np.zeros((1, 1))\n",
        "        target_seq[0, 0] = sampled_token_index\n",
        "\n",
        "\n",
        "        states_value = [h, c]\n",
        "\n",
        "    return decoded_sentence\n",
        "\n",
        "\n",
        "\n"
      ],
      "metadata": {
        "id": "zgrKPhbc8W9Z"
      },
      "execution_count": null,
      "outputs": []
    },
    {
      "cell_type": "code",
      "source": [
        "0for seq_index in range(5):\n",
        "    input_seq = X_test_padded[seq_index:seq_index+1]\n",
        "    decoded_sentence = decode_sequence(input_seq)\n",
        "    print('-')\n",
        "    print('Input sentence:', X_test.iloc[seq_index])\n",
        "    print('Decoded sentence:', decoded_sentence)"
      ],
      "metadata": {
        "colab": {
          "base_uri": "https://localhost:8080/"
        },
        "id": "IfJt2OZT8o5P",
        "outputId": "c5313329-5115-4412-c96d-04514a73655a"
      },
      "execution_count": null,
      "outputs": [
        {
          "output_type": "stream",
          "name": "stdout",
          "text": [
            "1/1 [==============================] - 2s 2s/step\n",
            "1/1 [==============================] - 1s 1s/step\n",
            "1/1 [==============================] - 0s 19ms/step\n",
            "1/1 [==============================] - 0s 22ms/step\n",
            "1/1 [==============================] - 0s 19ms/step\n",
            "1/1 [==============================] - 0s 19ms/step\n",
            "1/1 [==============================] - 0s 22ms/step\n",
            "1/1 [==============================] - 0s 19ms/step\n",
            "-\n",
            "Input sentence: i met tom a few months ago\n",
            "Decoded sentence: टॉम मला काही काही बर्यापैकी पाहिलं end \n",
            "1/1 [==============================] - 0s 17ms/step\n",
            "1/1 [==============================] - 0s 19ms/step\n",
            "1/1 [==============================] - 0s 19ms/step\n",
            "1/1 [==============================] - 0s 30ms/step\n",
            "1/1 [==============================] - 0s 19ms/step\n",
            "-\n",
            "Input sentence: i dont like it either\n",
            "Decoded sentence: मला आवडत नाही end \n",
            "1/1 [==============================] - 0s 20ms/step\n",
            "1/1 [==============================] - 0s 19ms/step\n",
            "1/1 [==============================] - 0s 19ms/step\n",
            "1/1 [==============================] - 0s 19ms/step\n",
            "1/1 [==============================] - 0s 20ms/step\n",
            "-\n",
            "Input sentence: hes old and crazy\n",
            "Decoded sentence: तो तरुण आहेत end \n",
            "1/1 [==============================] - 0s 20ms/step\n",
            "1/1 [==============================] - 0s 19ms/step\n",
            "1/1 [==============================] - 0s 20ms/step\n",
            "1/1 [==============================] - 0s 19ms/step\n",
            "1/1 [==============================] - 0s 19ms/step\n",
            "1/1 [==============================] - 0s 19ms/step\n",
            "1/1 [==============================] - 0s 19ms/step\n",
            "-\n",
            "Input sentence: you dont understand these things\n",
            "Decoded sentence: तू तुम्हाला सगळं माहीत नाही end \n",
            "1/1 [==============================] - 0s 21ms/step\n",
            "1/1 [==============================] - 0s 20ms/step\n",
            "1/1 [==============================] - 0s 20ms/step\n",
            "1/1 [==============================] - 0s 20ms/step\n",
            "1/1 [==============================] - 0s 20ms/step\n",
            "1/1 [==============================] - 0s 20ms/step\n",
            "1/1 [==============================] - 0s 21ms/step\n",
            "-\n",
            "Input sentence: well begin work soon\n",
            "Decoded sentence: आपण लवकरच सुरू होत नाही end \n"
          ]
        }
      ]
    },
    {
      "cell_type": "code",
      "source": [
        "\n",
        "input_seq = \"hi\"\n",
        "decoded_sentence = decode_sequence(input_seq)\n",
        "print('Input sentence:', X_test.iloc[seq_index])\n",
        "print('Decoded sentence:', decoded_sentence)"
      ],
      "metadata": {
        "id": "3rzzr6SsQVbW"
      },
      "execution_count": null,
      "outputs": []
    },
    {
      "cell_type": "code",
      "source": [],
      "metadata": {
        "id": "gdOX6_XAUouC"
      },
      "execution_count": null,
      "outputs": []
    }
  ]
}